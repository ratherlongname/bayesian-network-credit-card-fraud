{
 "cells": [
  {
   "cell_type": "code",
   "execution_count": 49,
   "metadata": {
    "id": "ZkWF91A9-4Vw"
   },
   "outputs": [],
   "source": [
    "# Prerequisites for pomagranate\n",
    "!apt-get -qq install python3-dev graphviz libgraphviz-dev pkg-config\n",
    "!pip -qq install pomegranate\n",
    "!pip -qq install matplotlib pygraphviz numpy"
   ]
  },
  {
   "cell_type": "code",
   "execution_count": 50,
   "metadata": {
    "id": "8ZmB9Q75Q4VR"
   },
   "outputs": [],
   "source": [
    "# Imports\n",
    "from pomegranate import *\n",
    "import tempfile\n",
    "import pygraphviz\n",
    "import matplotlib.pyplot as plt\n",
    "import matplotlib.image\n",
    "import random\n",
    "import numpy as np"
   ]
  },
  {
   "cell_type": "markdown",
   "metadata": {
    "id": "-D5_Z5VG_lyG"
   },
   "source": [
    "### Modelling"
   ]
  },
  {
   "cell_type": "code",
   "execution_count": 51,
   "metadata": {
    "id": "bZVgLFSxCZYP"
   },
   "outputs": [],
   "source": [
    "# States\n",
    "travel = DiscreteDistribution({'T': 5./100, 'F': 95./100})\n",
    "owns_device = DiscreteDistribution({'T': 70./100, 'F': 30./100})\n",
    "foreign_purchase = ConditionalProbabilityTable(\n",
    "    [['T', 'T', 88./100],\n",
    "     ['T', 'F', 12./100],\n",
    "     ['F', 'T', 0.0001],\n",
    "     ['F', 'F', 0.9999],], [travel])\n",
    "online_purchase = ConditionalProbabilityTable(\n",
    "    [['T', 'T', 40./100],\n",
    "     ['T', 'F', 60./100],\n",
    "     ['F', 'T', 5./100],\n",
    "     ['F', 'F', 95./100],], [owns_device])\n",
    "fraud = ConditionalProbabilityTable(\n",
    "    [['T', 'T', 'T', 99.995],\n",
    "     ['T', 'T', 'F', 0.005],\n",
    "     ['T', 'F', 'T', 85./100],\n",
    "     ['T', 'F', 'F', 15./100],\n",
    "     ['F', 'T', 'T', 80./100],\n",
    "     ['F', 'T', 'F', 20./100],\n",
    "     ['F', 'F', 'T', 75./100],\n",
    "     ['F', 'F', 'F', 25./100],], [travel, online_purchase])\n",
    "\n",
    "# Setup model nodes\n",
    "s1 = Node(travel, name=\"travel\")\n",
    "s2 = Node(owns_device, name=\"owns_device\")\n",
    "s3 = Node(foreign_purchase, name=\"foreign_purchase\")\n",
    "s4 = Node(online_purchase, name=\"online_purchase\")\n",
    "s5 = Node(fraud, name=\"fraud\")\n",
    "\n",
    "# Setup model\n",
    "model = BayesianNetwork(\"CC Fraud Detection\")\n",
    "model.add_states(s1, s2, s3, s4, s5)\n",
    "model.add_edge(s1, s3)\n",
    "model.add_edge(s2, s4)\n",
    "model.add_edge(s1, s5)\n",
    "model.add_edge(s4, s5)\n",
    "model.bake()"
   ]
  },
  {
   "cell_type": "code",
   "execution_count": 52,
   "metadata": {
    "colab": {
     "base_uri": "https://localhost:8080/",
     "height": 248
    },
    "id": "nGQvy1CPNsXV",
    "outputId": "2d7ecf1c-9381-4126-f580-66563b76cce4"
   },
   "outputs": [
    {
     "data": {
      "image/png": "[encoded data removed]",
      "text/plain": [
       "<Figure size 432x288 with 1 Axes>"
      ]
     },
     "metadata": {
      "needs_background": "light",
      "tags": []
     },
     "output_type": "display_data"
    }
   ],
   "source": [
    "def plot(model):\n",
    "    G = pygraphviz.AGraph(directed=True)\n",
    "\n",
    "    for state in model.states:\n",
    "        G.add_node(state.name, color='red')\n",
    "\n",
    "    for parent, child in model.edges:\n",
    "        G.add_edge(parent.name, child.name)\n",
    "\n",
    "    with tempfile.NamedTemporaryFile() as tf:\n",
    "        G.draw(tf.name, format='png', prog='dot')\n",
    "        img = matplotlib.image.imread(tf.name)\n",
    "        plt.imshow(img)\n",
    "        plt.axis('off')\n",
    "\n",
    "# Plot dependency graph of model\n",
    "plot(model)"
   ]
  },
  {
   "cell_type": "markdown",
   "metadata": {
    "id": "aiPNk4y4_hqH"
   },
   "source": [
    "### Inference"
   ]
  },
  {
   "cell_type": "markdown",
   "metadata": {
    "id": "vzfFnGyL_pH_"
   },
   "source": [
    "We will use Gibbs sampling method"
   ]
  },
  {
   "cell_type": "code",
   "execution_count": 53,
   "metadata": {
    "id": "JlmM10n-eVGh"
   },
   "outputs": [],
   "source": [
    "## initializing the CPTs given in the bayesian network\n",
    "P_T = np.array((95./100 , 5./100))\n",
    "P_OD = np.array((30./100 , 70./100))\n",
    "P_FP_g_T = np.array(((99.99/100 , 0.01/100) , (12.0/100 , 88.0/100)))\n",
    "P_OP_g_OD = np.array(((95.0/100 , 5./100) , (60.0/100 , 40.0/100)))\n",
    "P_FR_g_T_OP = np.array((((25./100 , 75./100) , (20./100 , 80./100)) , ((15.0/100 , 85./100) , (0.5/100 , 99.5/100))))\n",
    "\n",
    "## markov blanket of fraud is travel and online purchase\n",
    "def FR_given_others (t_ , op_) :\n",
    "  ## P(FR | t , op)\n",
    "  return P_FR_g_T_OP[t_][op_]\n",
    "\n",
    "## markov blanket of foreign-purchase is travel\n",
    "def FP_given_others(t_) :\n",
    "  ## P(FP | T)\n",
    "  return P_FP_g_T[t_]\n",
    "\n",
    "## markov blanket of travel is foreign-purchase , fraud ,  online-purchase\n",
    "def T_given_others (fp_ , fr_ ,  op_):\n",
    "  ## P(T | FP , FR , OP) = alpha P(T) * P(FP | T) * P(FR | T , OP)\n",
    "  return P_T * ((P_FP_g_T[0][fp_] , P_FP_g_T[1][fp_])) * ((P_FR_g_T_OP[0][op_][fr_] , P_FR_g_T_OP[1][op_][fr_])) \n",
    "\n",
    "## markov blanket of owns-device is online_purchase\n",
    "def OD_given_others(op_) :\n",
    "  ## P(OD | OP) = alpha * P(OD) * P(OP | OD)\n",
    "  return P_OD * (P_OP_g_OD[0][op_] , P_OP_g_OD[1][op_])\n",
    "\n",
    "## markov blanket of online-purchase is fraud , travel , ownsdevice\n",
    "def OP_given_others(fr_ , t_ , od_) :\n",
    "  ## P(OP | FR , T , OD) = alpha * P(OP | OD) * P(FR | T , OP)\n",
    "  return P_OP_g_OD[od_] * ((P_FR_g_T_OP[t_][0][od_] , P_FR_g_T_OP[t_][1][od_]))"
   ]
  },
  {
   "cell_type": "code",
   "execution_count": 54,
   "metadata": {
    "id": "zVpP8f0kViCv"
   },
   "outputs": [],
   "source": [
    "def get_sample(prob):\n",
    "    x = random.uniform(0, 1)\n",
    "    if x <= prob :\n",
    "        return 'T'\n",
    "    else:\n",
    "        return 'F'\n",
    "\n",
    "def get_prob_var(var, evidence, sample):\n",
    "    # Formula : P(X) = normalize( P( X | Parents(X) ) * ( for Y in Children(X) multiply: P( Y | Parents(Y) ) ) )\n",
    "\n",
    "    # Combine all evidence of known and unknown variables\n",
    "    all_evidence = {}\n",
    "    for key in evidence.keys():\n",
    "        if evidence[key] == 'T':\n",
    "            all_evidence[key] = 1\n",
    "        if evidence[key] == 'F':\n",
    "            all_evidence[key] = 0\n",
    "    \n",
    "    for key in sample.keys():\n",
    "        if sample[key] == 'T':\n",
    "            all_evidence[key] = 1\n",
    "        if sample[key] == 'F':\n",
    "            all_evidence[key] = 0\n",
    "\n",
    "    # All probabilities\n",
    "    # Re-initializing as pomegranate does not provide easy access from model\n",
    "    T_cpt = np.array((95./100 , 5./100))\n",
    "    OD_cpt = np.array((30./100 , 70./100))\n",
    "    FP_cpt_T = np.array(((99.99/100 , 0.01/100) , (12.0/100 , 88.0/100)))\n",
    "    OP_cpt_OD = np.array(((95.0/100 , 5./100) , (60.0/100 , 40.0/100)))\n",
    "    F_cpt_T_OP = np.array((((25./100 , 75./100) , (20./100 , 80./100)) , ((15.0/100 , 85./100) , (0.5/100 , 99.5/100))))\n",
    "\n",
    "    # Get 'No' and 'Yes' probability (prob_F, prob_T) of var variable\n",
    "    if var == 'owns_device':\n",
    "        # ans = alpha x P(OD) x P(OP | OD)\n",
    "        op = all_evidence['online_purchase']\n",
    "        (prob_F, prob_T) = OD_cpt * (OP_cpt_OD[0][op] , OP_cpt_OD[1][op])\n",
    "    \n",
    "    elif var == 'foreign_purchase':\n",
    "        # ans = alpha x P(FP | T)\n",
    "        t = all_evidence['travel']\n",
    "        (prob_F, prob_T) = FP_cpt_T[t]\n",
    "    \n",
    "    elif var == 'online_purchase':\n",
    "        # ans = alpha x P(OP | OD) x P(F | OP, T)\n",
    "        t = all_evidence['travel']\n",
    "        f = all_evidence['fraud']\n",
    "        od = all_evidence['owns_device']\n",
    "        (prob_F, prob_T) = OP_cpt_OD[od] * ((F_cpt_T_OP[t][0][od] , F_cpt_T_OP[t][1][od]))\n",
    "    \n",
    "    elif var == 'travel':\n",
    "        # ans = alpha x P(T) x P(FP | T) x P(F | OP, T)\n",
    "        fp = all_evidence['foreign_purchase']\n",
    "        f = all_evidence['fraud']\n",
    "        op = all_evidence['online_purchase']\n",
    "        (prob_F, prob_T) = T_cpt * ((FP_cpt_T[0][fp] , FP_cpt_T[1][fp])) * ((F_cpt_T_OP[0][op][f] , F_cpt_T_OP[1][op][f]))\n",
    "\n",
    "    elif var == 'fraud':\n",
    "        # ans = alpha x P(F | OP, T)\n",
    "        op = all_evidence['online_purchase']\n",
    "        t = all_evidence['travel']\n",
    "        (prob_F, prob_T) = F_cpt_T_OP[t][op]\n",
    "    \n",
    "    else:\n",
    "        print(var)\n",
    "        raise ValueError(\"what?!\")\n",
    "    \n",
    "    # Normalize and return\n",
    "    return ( prob_T/(prob_T + prob_F) )\n",
    "\n",
    "def gibbs(model, evidence, iterations = 10000):\n",
    "    known_variables = [var for var in evidence.keys() if evidence[var] != 'hidden']\n",
    "    print(f\"Known variables are: {known_variables}\")\n",
    "\n",
    "    unknown_variables = [var for var in evidence.keys() if evidence[var] == 'hidden']\n",
    "    print(f\"Unknown variables are: {unknown_variables}\")\n",
    "\n",
    "    # Initially set all hidden variables to true (T)\n",
    "    sample = { var : 'T' for var in unknown_variables }\n",
    "    print(f\"Initial sample is: {sample}\")\n",
    "\n",
    "    samples = []\n",
    "\n",
    "    for _ in range(iterations):\n",
    "        for var in unknown_variables:\n",
    "            # Get probability of random variable given all other variables\n",
    "            prob_var = get_prob_var(var, evidence, sample)\n",
    "\n",
    "            # Sample random variable on probability computed\n",
    "            updated_var_val = get_sample(prob_var)\n",
    "\n",
    "            # Update value of random variable\n",
    "            sample[var] = updated_var_val\n",
    "        \n",
    "        # Append this sample to list of all samples\n",
    "        # At the end of this iteration\n",
    "        samples.append(sample.copy())\n",
    "\n",
    "    # Return samples from all iterations\n",
    "    return samples"
   ]
  },
  {
   "cell_type": "code",
   "execution_count": 55,
   "metadata": {
    "colab": {
     "base_uri": "https://localhost:8080/"
    },
    "id": "F-NjmKQ6RLCK",
    "outputId": "cfd827e4-bf31-41f1-f62b-b8f090b5cc34"
   },
   "outputs": [
    {
     "name": "stdout",
     "output_type": "stream",
     "text": [
      "Query (a) \n",
      "=========\n",
      "Known variables are: []\n",
      "Unknown variables are: ['travel', 'owns_device', 'foreign_purchase', 'online_purchase', 'fraud']\n",
      "Initial sample is: {'travel': 'T', 'owns_device': 'T', 'foreign_purchase': 'T', 'online_purchase': 'T', 'fraud': 'T'}\n",
      "10000 samples returned:\n",
      "\t[{'travel': 'T', 'owns_device': 'T', 'foreign_purchase': 'T', 'online_purchase': 'T', 'fraud': 'T'}, {'travel': 'T', 'owns_device': 'T', 'foreign_purchase': 'T', 'online_purchase': 'F', 'fraud': 'T'}, {'travel': 'T', 'owns_device': 'F', 'foreign_purchase': 'T', 'online_purchase': 'F', 'fraud': 'T'}, {'travel': 'T', 'owns_device': 'T', 'foreign_purchase': 'T', 'online_purchase': 'F', 'fraud': 'T'}, {'travel': 'T', 'owns_device': 'T', 'foreign_purchase': 'T', 'online_purchase': 'T', 'fraud': 'T'}]\n",
      "Counts of fraud in all samples: 7751\n",
      "Probability of fraud payment: 0.7751\n"
     ]
    }
   ],
   "source": [
    "# (a) Prior probability of fraudulent transaction\n",
    "print(\"Query (a) \\n=========\")\n",
    "evidence = { \n",
    "    'travel' : 'hidden',\n",
    "    'owns_device' : 'hidden',\n",
    "    'foreign_purchase' : 'hidden',\n",
    "    'online_purchase' : 'hidden',\n",
    "    'fraud' : 'hidden'\n",
    "    }\n",
    "\n",
    "samples = gibbs(model, evidence)\n",
    "print(f\"{len(samples)} samples returned:\\n\\t{samples[:5]}\")\n",
    "\n",
    "# Compute probability of fraud from Gibbs samples\n",
    "count_fraud = 0\n",
    "for sample in samples:\n",
    "    if sample['fraud'] == 'T':\n",
    "        count_fraud += 1\n",
    "print(f\"Counts of fraud in all samples: {count_fraud}\")\n",
    "\n",
    "prob_fraud = count_fraud / len(samples)\n",
    "print(f\"Probability of fraud payment: {prob_fraud}\")"
   ]
  },
  {
   "cell_type": "code",
   "execution_count": 56,
   "metadata": {
    "colab": {
     "base_uri": "https://localhost:8080/"
    },
    "id": "G3k00kbhnnEI",
    "outputId": "2584e41c-7569-411c-e9e2-4ac7a72d2b5d"
   },
   "outputs": [
    {
     "name": "stdout",
     "output_type": "stream",
     "text": [
      "Query (b) \n",
      "=========\n",
      "Known variables are: ['owns_device']\n",
      "Unknown variables are: ['travel', 'foreign_purchase', 'online_purchase', 'fraud']\n",
      "Initial sample is: {'travel': 'T', 'foreign_purchase': 'T', 'online_purchase': 'T', 'fraud': 'T'}\n",
      "10000 samples returned:\n",
      "\t[{'travel': 'T', 'foreign_purchase': 'T', 'online_purchase': 'T', 'fraud': 'T'}, {'travel': 'T', 'foreign_purchase': 'T', 'online_purchase': 'F', 'fraud': 'T'}, {'travel': 'T', 'foreign_purchase': 'T', 'online_purchase': 'F', 'fraud': 'T'}, {'travel': 'T', 'foreign_purchase': 'T', 'online_purchase': 'T', 'fraud': 'T'}, {'travel': 'T', 'foreign_purchase': 'F', 'online_purchase': 'F', 'fraud': 'T'}]\n",
      "Counts of fraud in all samples: 7804\n",
      "Probability of fraud payment: 0.7804\n"
     ]
    }
   ],
   "source": [
    "# (b) Probability of fraudulent transaction given user owns smartphone\n",
    "print(\"Query (b) \\n=========\")\n",
    "evidence = { \n",
    "    'travel' : 'hidden',\n",
    "    'owns_device' : 'T',\n",
    "    'foreign_purchase' : 'hidden',\n",
    "    'online_purchase' : 'hidden',\n",
    "    'fraud' : 'hidden'\n",
    "    }\n",
    "\n",
    "samples = gibbs(model, evidence)\n",
    "print(f\"{len(samples)} samples returned:\\n\\t{samples[:5]}\")\n",
    "\n",
    "# Compute probability of fraud from Gibbs samples\n",
    "count_fraud = 0\n",
    "for sample in samples:\n",
    "    if sample['fraud'] == 'T':\n",
    "        count_fraud += 1\n",
    "print(f\"Counts of fraud in all samples: {count_fraud}\")\n",
    "\n",
    "prob_fraud = count_fraud / len(samples)\n",
    "print(f\"Probability of fraud payment: {prob_fraud}\")"
   ]
  },
  {
   "cell_type": "code",
   "execution_count": 57,
   "metadata": {
    "colab": {
     "base_uri": "https://localhost:8080/"
    },
    "id": "dJ865ssLoFin",
    "outputId": "558429ae-47a6-43bf-e101-a32c37d21999"
   },
   "outputs": [
    {
     "name": "stdout",
     "output_type": "stream",
     "text": [
      "Query (c) \n",
      "=========\n",
      "Known variables are: ['travel']\n",
      "Unknown variables are: ['owns_device', 'foreign_purchase', 'online_purchase', 'fraud']\n",
      "Initial sample is: {'owns_device': 'T', 'foreign_purchase': 'T', 'online_purchase': 'T', 'fraud': 'T'}\n",
      "10000 samples returned:\n",
      "\t[{'owns_device': 'T', 'foreign_purchase': 'T', 'online_purchase': 'T', 'fraud': 'T'}, {'owns_device': 'T', 'foreign_purchase': 'T', 'online_purchase': 'F', 'fraud': 'T'}, {'owns_device': 'T', 'foreign_purchase': 'T', 'online_purchase': 'T', 'fraud': 'T'}, {'owns_device': 'T', 'foreign_purchase': 'T', 'online_purchase': 'T', 'fraud': 'T'}, {'owns_device': 'T', 'foreign_purchase': 'T', 'online_purchase': 'F', 'fraud': 'T'}]\n",
      "Counts of fraud in all samples: 8960\n",
      "Probability of fraud payment: 0.896\n"
     ]
    }
   ],
   "source": [
    "# (c) Probability of fraudulent transaction given user is abroad\n",
    "print(\"Query (c) \\n=========\")\n",
    "evidence = { \n",
    "    'travel' : 'T',\n",
    "    'owns_device' : 'hidden',\n",
    "    'foreign_purchase' : 'hidden',\n",
    "    'online_purchase' : 'hidden',\n",
    "    'fraud' : 'hidden'\n",
    "    }\n",
    "\n",
    "samples = gibbs(model, evidence)\n",
    "print(f\"{len(samples)} samples returned:\\n\\t{samples[:5]}\")\n",
    "\n",
    "# Compute probability of fraud from Gibbs samples\n",
    "count_fraud = 0\n",
    "for sample in samples:\n",
    "    if sample['fraud'] == 'T':\n",
    "        count_fraud += 1\n",
    "print(f\"Counts of fraud in all samples: {count_fraud}\")\n",
    "\n",
    "prob_fraud = count_fraud / len(samples)\n",
    "print(f\"Probability of fraud payment: {prob_fraud}\")"
   ]
  }
 ],
 "metadata": {
  "colab": {
   "collapsed_sections": [],
   "name": "credit-card-fraud.ipynb",
   "provenance": []
  },
  "kernelspec": {
   "display_name": "Python 3",
   "language": "python",
   "name": "python3"
  },
  "language_info": {
   "codemirror_mode": {
    "name": "ipython",
    "version": 3
   },
   "file_extension": ".py",
   "mimetype": "text/x-python",
   "name": "python",
   "nbconvert_exporter": "python",
   "pygments_lexer": "ipython3",
   "version": "3.8.6"
  }
 },
 "nbformat": 4,
 "nbformat_minor": 1
}
